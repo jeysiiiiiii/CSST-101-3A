{
  "nbformat": 4,
  "nbformat_minor": 0,
  "metadata": {
    "colab": {
      "provenance": []
    },
    "kernelspec": {
      "name": "python3",
      "display_name": "Python 3"
    },
    "language_info": {
      "name": "python"
    }
  },
  "cells": [
    {
      "cell_type": "markdown",
      "source": [
        "# **Machine Problem: Interactive Probability and Decision-Making in AI**\n",
        "\n",
        "---\n",
        "\n",
        "**Objective**\n",
        "- In this machine problem, you will apply probability theory, Bayesian inference, and decisionmaking under uncertainty to real-world scenarios using Python. The goal is to create an interactive Python program that allows you to simulate and visualize probabilistic reasoning in various AI contexts."
      ],
      "metadata": {
        "id": "rp2mHsIjiNBZ"
      }
    },
    {
      "cell_type": "markdown",
      "source": [
        "### Part 1: Implement Basic Probability Calculations\n",
        "\n",
        "---\n",
        "\n"
      ],
      "metadata": {
        "id": "8vUlP6rfifhj"
      }
    },
    {
      "cell_type": "markdown",
      "source": [
        "1. Task: Write Python functions to calculate the following"
      ],
      "metadata": {
        "id": "31IGEgl7i-gC"
      }
    },
    {
      "cell_type": "markdown",
      "source": [
        "- Joint Probability"
      ],
      "metadata": {
        "id": "EUBB4d3-j3RC"
      }
    },
    {
      "cell_type": "code",
      "source": [
        "def joint_probability(p_a, p_b):\n",
        "    return p_a * p_b"
      ],
      "metadata": {
        "id": "nRG9bCQUkAXu"
      },
      "execution_count": 1,
      "outputs": []
    },
    {
      "cell_type": "markdown",
      "source": [
        "- Marginal Probability"
      ],
      "metadata": {
        "id": "1PnvP-cYj7aV"
      }
    },
    {
      "cell_type": "code",
      "source": [
        "def marginal_probability(p_a_given_b, p_b):\n",
        "    return p_a_given_b * p_b"
      ],
      "metadata": {
        "id": "PM5tJh0NkEgj"
      },
      "execution_count": 2,
      "outputs": []
    },
    {
      "cell_type": "markdown",
      "source": [
        "- Conditional Probability"
      ],
      "metadata": {
        "id": "SE8DatCMj90o"
      }
    },
    {
      "cell_type": "code",
      "source": [
        "def conditional_probability(p_a_and_b, p_b):\n",
        "    return p_a_and_b / p_b"
      ],
      "metadata": {
        "id": "xT_4EXW6kG0X"
      },
      "execution_count": 3,
      "outputs": []
    },
    {
      "cell_type": "markdown",
      "source": [
        "2. Interactive Component\n"
      ],
      "metadata": {
        "id": "aG862xdAjC0-"
      }
    },
    {
      "cell_type": "code",
      "source": [
        "def main():\n",
        "    p_a = float(input(\"Enter the probability of event A: \"))\n",
        "    p_b = float(input(\"Enter the probability of event B: \"))\n",
        "    p_b_given_a = float(input(\"Enter the probability of B given A: \"))\n",
        "\n",
        "    joint_prob = joint_probability(p_a, p_b)\n",
        "    print(f\"\\nJoint probability: {joint_prob}\")\n",
        "\n",
        "    marginal_prob = marginal_probability(p_b_given_a, p_a)\n",
        "    print(f\"\\nMarginal probability: {marginal_prob}\")\n",
        "\n",
        "    cond_prob = conditional_probability(joint_prob, p_b)\n",
        "    print(f\"\\nConditional probability: {cond_prob}\")\n",
        "\n",
        "main()"
      ],
      "metadata": {
        "colab": {
          "base_uri": "https://localhost:8080/"
        },
        "id": "wqp08PJukIHU",
        "outputId": "f7ba73f8-e0b5-4e1c-99ee-eecf4a5c26d0"
      },
      "execution_count": 4,
      "outputs": [
        {
          "output_type": "stream",
          "name": "stdout",
          "text": [
            "Enter the probability of event A: 0.3\n",
            "Enter the probability of event B: 0.4\n",
            "Enter the probability of B given A: 0.8\n",
            "\n",
            "Joint probability: 0.12\n",
            "\n",
            "Marginal probability: 0.24\n",
            "\n",
            "Conditional probability: 0.3\n"
          ]
        }
      ]
    },
    {
      "cell_type": "markdown",
      "source": [
        "### Part 2: Bayesian Inference for Real-World Scenarios\n",
        "\n",
        "---\n"
      ],
      "metadata": {
        "id": "V91ADsq7jFI6"
      }
    },
    {
      "cell_type": "markdown",
      "source": [
        "1. Task: Implement a Python function that uses Bayesian inference to update\n",
        "probabilities based on new evidence."
      ],
      "metadata": {
        "id": "Xq8_7BIujKn4"
      }
    },
    {
      "cell_type": "code",
      "source": [
        "def bayesian_inference(p_prior, p_pos_given_disease, p_pos):\n",
        "    return (p_pos_given_disease * p_prior) / p_pos"
      ],
      "metadata": {
        "id": "jhcIh2pckUDh"
      },
      "execution_count": 5,
      "outputs": []
    },
    {
      "cell_type": "markdown",
      "source": [
        "2. Interactive Component:\n"
      ],
      "metadata": {
        "id": "Kbyr1nEQjQdP"
      }
    },
    {
      "cell_type": "code",
      "source": [
        "p_prior = float(input(\"Enter the prior probability of disease: \"))\n",
        "p_pos_given_disease = float(input(\"Enter the likelihood of a positive test given disease: \"))\n",
        "p_pos = float(input(\"Enter the overall probability of a positive test: \"))\n",
        "\n",
        "posterior_prob = bayesian_inference(p_prior, p_pos_given_disease, p_pos)\n",
        "\n",
        "print(f\"\\nPosterior probability of disease given positive test: {posterior_prob:.4f}\")"
      ],
      "metadata": {
        "colab": {
          "base_uri": "https://localhost:8080/"
        },
        "id": "6w6BrOwykWh-",
        "outputId": "ebe43fe3-88bd-421a-e7d7-3884ea271c47"
      },
      "execution_count": 6,
      "outputs": [
        {
          "output_type": "stream",
          "name": "stdout",
          "text": [
            "Enter the prior probability of disease: 0.01\n",
            "Enter the likelihood of a positive test given disease: 0.9\n",
            "Enter the overall probability of a positive test: 0.05\n",
            "\n",
            "Posterior probability of disease given positive test: 0.1800\n"
          ]
        }
      ]
    },
    {
      "cell_type": "markdown",
      "source": [
        "### Part 3: Simulate Decision-Making Under Uncertainty\n",
        "\n",
        "---\n"
      ],
      "metadata": {
        "id": "XmIk2ixYjSIp"
      }
    },
    {
      "cell_type": "markdown",
      "source": [
        "1. Task: Write a Python function to simulate a decision-making process where\n",
        "outcomes are uncertain (e.g., investment decisions). Use a probability distribution to\n",
        "model the decision’s potential outcomes."
      ],
      "metadata": {
        "id": "0lZkREnLjVoR"
      }
    },
    {
      "cell_type": "code",
      "source": [
        "import numpy as np\n",
        "\n",
        "def simulate_decision(prob_success, reward, penalty, trials):\n",
        "    results = []\n",
        "    for _ in range(trials):\n",
        "        if np.random.rand() < prob_success:\n",
        "            results.append(reward)\n",
        "        else:\n",
        "            results.append(penalty)\n",
        "    return np.mean(results)"
      ],
      "metadata": {
        "id": "YLEI8BX1kZWN"
      },
      "execution_count": 7,
      "outputs": []
    },
    {
      "cell_type": "markdown",
      "source": [
        "2. Interactive Component:\n"
      ],
      "metadata": {
        "id": "WRO62VNLjbdL"
      }
    },
    {
      "cell_type": "code",
      "source": [
        "def simulate_decision(prob_success, reward, penalty, trials):\n",
        "    return (prob_success * reward - (1 - prob_success) * penalty) * trials\n",
        "\n",
        "prob_success = float(input(\"Enter the probability of success: \"))\n",
        "reward = float(input(\"Enter the reward for success: \"))\n",
        "penalty = float(input(\"Enter the penalty for failure: \"))\n",
        "trials = int(input(\"Enter the number of trials: \"))\n",
        "\n",
        "average_return = simulate_decision(prob_success, reward, penalty, trials)\n",
        "print(f\"\\nAverage return after {trials} trials: {average_return}\")"
      ],
      "metadata": {
        "colab": {
          "base_uri": "https://localhost:8080/"
        },
        "id": "-I8_6yi-kb85",
        "outputId": "a2d8b2e0-5331-40f8-df26-d6de2661b52c"
      },
      "execution_count": 8,
      "outputs": [
        {
          "output_type": "stream",
          "name": "stdout",
          "text": [
            "Enter the probability of success: 0.7\n",
            "Enter the reward for success: 1000\n",
            "Enter the penalty for failure: -500\n",
            "Enter the number of trials: 1000\n",
            "\n",
            "Average return after 1000 trials: 850000.0\n"
          ]
        }
      ]
    },
    {
      "cell_type": "markdown",
      "source": [
        "### Part 4: Visualize Probability Distributions\n",
        "\n",
        "---\n"
      ],
      "metadata": {
        "id": "EXeG2ccBjdFD"
      }
    },
    {
      "cell_type": "markdown",
      "source": [
        "1. Task: Use Python to generate and visualize binomial and normal probability\n",
        "distributions. The visualizations should represent real-world scenarios like coin\n",
        "flips or dice rolls.\n"
      ],
      "metadata": {
        "id": "TybRQWNSjfrk"
      }
    },
    {
      "cell_type": "code",
      "source": [
        "import matplotlib.pyplot as plt\n",
        "import numpy as np\n",
        "from scipy.stats import binom, norm\n",
        "\n",
        "def visualize_binomial(n, p):\n",
        "    x = np.arange(0, n+1)\n",
        "    binom_dist = binom.pmf(x, n, p)\n",
        "    plt.bar(x, binom_dist)\n",
        "    plt.title(\"Binomial Distribution (Coin Flips)\")\n",
        "    plt.xlabel(\"Number of Heads (Successes)\")\n",
        "    plt.ylabel(\"Probability\")\n",
        "    plt.show()\n",
        "\n",
        "def visualize_normal(mean, std):\n",
        "    x = np.linspace(mean - 4*std, mean + 4*std, 1000)\n",
        "    normal_dist = norm.pdf(x, mean, std)\n",
        "    plt.plot(x, normal_dist)\n",
        "    plt.title(\"Normal Distribution (Exam Scores)\")\n",
        "    plt.xlabel(\"Score\")\n",
        "    plt.ylabel(\"Probability Density\")\n",
        "    plt.show()"
      ],
      "metadata": {
        "id": "IEsz0d5Dke5s"
      },
      "execution_count": 9,
      "outputs": []
    },
    {
      "cell_type": "markdown",
      "source": [
        "2. Interactive Component:\n"
      ],
      "metadata": {
        "id": "WmtlHPMDjkYU"
      }
    },
    {
      "cell_type": "code",
      "source": [
        "print(\"Choose a distribution to simulate:\\n1. Binomial (Coin flips)\\n2. Normal (Exam scores)\\n\")\n",
        "\n",
        "dist_choice = input(\"Enter 1 for Binomial or 2 for Normal: \")\n",
        "\n",
        "if dist_choice == \"1\":\n",
        "    print(\"\\nYou selected: Binomial (Coin flips)\\n\")\n",
        "    n = int(input(\"Enter the number of trials: \"))\n",
        "    p = float(input(\"Enter the probability of heads (success): \"))\n",
        "    print()\n",
        "    visualize_binomial(n, p)\n",
        "\n",
        "elif dist_choice == \"2\":\n",
        "    print(\"\\nYou selected: Normal (Exam scores)\\n\")\n",
        "    mean = float(input(\"Enter the mean score: \"))\n",
        "    std = float(input(\"Enter the standard deviation of the scores: \"))\n",
        "    print()\n",
        "    visualize_normal(mean, std)\n",
        "\n",
        "else:\n",
        "    print(\"\\nInvalid choice! Please enter 1 for Binomial or 2 for Normal.\")"
      ],
      "metadata": {
        "colab": {
          "base_uri": "https://localhost:8080/",
          "height": 663
        },
        "id": "fieRdRllkhQX",
        "outputId": "fe3eae15-e828-487c-e9ca-f3d37b9642ea"
      },
      "execution_count": 13,
      "outputs": [
        {
          "output_type": "stream",
          "name": "stdout",
          "text": [
            "Choose a distribution to simulate:\n",
            "1. Binomial (Coin flips)\n",
            "2. Normal (Exam scores)\n",
            "\n",
            "Enter 1 for Binomial or 2 for Normal: 1\n",
            "\n",
            "You selected: Binomial (Coin flips)\n",
            "\n",
            "Enter the number of trials: 500\n",
            "Enter the probability of heads (success): 0.5\n",
            "\n"
          ]
        },
        {
          "output_type": "display_data",
          "data": {
            "text/plain": [
              "<Figure size 640x480 with 1 Axes>"
            ],
            "image/png": "[encoded data removed]"
          },
          "metadata": {}
        }
      ]
    },
    {
      "cell_type": "markdown",
      "source": [
        "### Part 5: Real-World Scenario Prediction\n",
        "\n",
        "---\n"
      ],
      "metadata": {
        "id": "fX4Ljn5LjmcF"
      }
    },
    {
      "cell_type": "markdown",
      "source": [
        "1. Task: Write a Python script that uses conditional probability to predict a realworld event. The scenario should involve predicting the probability of rain based on\n",
        "inputs like humidity and cloud cover."
      ],
      "metadata": {
        "id": "hLjQ0-tujpiu"
      }
    },
    {
      "cell_type": "code",
      "source": [
        "def rain_prediction(humidity_level, cloud_cover_level):\n",
        "    p_humidity = humidity_level\n",
        "    p_cloud = cloud_cover_level\n",
        "\n",
        "    p_rain = 0.3\n",
        "    p_humidity_given_rain = 0.8\n",
        "    p_cloud_given_rain = 0.7\n",
        "\n",
        "    return (p_humidity_given_rain * p_cloud_given_rain * p_rain) / (p_humidity * p_cloud)"
      ],
      "metadata": {
        "id": "QJmQhFcFkojR"
      },
      "execution_count": 11,
      "outputs": []
    },
    {
      "cell_type": "markdown",
      "source": [
        "2. Interactive Component:"
      ],
      "metadata": {
        "id": "_zvL2kp4junS"
      }
    },
    {
      "cell_type": "code",
      "source": [
        "humidity_level = float(input(\"Enter the humidity level (0 to 1): \"))\n",
        "cloud_cover_level = float(input(\"Enter the cloud cover level (0 to 1): \"))\n",
        "\n",
        "rain_prob = rain_prediction(humidity_level, cloud_cover_level)\n",
        "print(f\"\\nProbability of rain: {rain_prob:.2f}\")"
      ],
      "metadata": {
        "colab": {
          "base_uri": "https://localhost:8080/"
        },
        "id": "ze-gykOykpNj",
        "outputId": "2d8a61d4-07c9-4bd8-c39a-0c214719a631"
      },
      "execution_count": 12,
      "outputs": [
        {
          "output_type": "stream",
          "name": "stdout",
          "text": [
            "Enter the humidity level (0 to 1): 0.8\n",
            "Enter the cloud cover level (0 to 1): 0.6\n",
            "\n",
            "Probability of rain: 0.35\n"
          ]
        }
      ]
    }
  ]
}