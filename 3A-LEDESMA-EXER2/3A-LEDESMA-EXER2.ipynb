{
  "nbformat": 4,
  "nbformat_minor": 0,
  "metadata": {
    "colab": {
      "provenance": []
    },
    "kernelspec": {
      "name": "python3",
      "display_name": "Python 3"
    },
    "language_info": {
      "name": "python"
    },
    "widgets": {
      "application/vnd.jupyter.widget-state+json": {
        "d881f191aced4f4ead7c57cddfc702c6": {
          "model_module": "@jupyter-widgets/controls",
          "model_name": "VBoxModel",
          "model_module_version": "1.5.0",
          "state": {
            "_dom_classes": [
              "widget-interact"
            ],
            "_model_module": "@jupyter-widgets/controls",
            "_model_module_version": "1.5.0",
            "_model_name": "VBoxModel",
            "_view_count": null,
            "_view_module": "@jupyter-widgets/controls",
            "_view_module_version": "1.5.0",
            "_view_name": "VBoxView",
            "box_style": "",
            "children": [
              "IPY_MODEL_e99cffe012b94a0eadff5322ffb7d19d",
              "IPY_MODEL_d02fc0102c264bf4a9ce56dde9aa56dc",
              "IPY_MODEL_e4411feefe304e23a4244343fe323ec5"
            ],
            "layout": "IPY_MODEL_98284e9d34e44a3bbca365a4da89ba46"
          }
        },
        "e99cffe012b94a0eadff5322ffb7d19d": {
          "model_module": "@jupyter-widgets/controls",
          "model_name": "IntSliderModel",
          "model_module_version": "1.5.0",
          "state": {
            "_dom_classes": [],
            "_model_module": "@jupyter-widgets/controls",
            "_model_module_version": "1.5.0",
            "_model_name": "IntSliderModel",
            "_view_count": null,
            "_view_module": "@jupyter-widgets/controls",
            "_view_module_version": "1.5.0",
            "_view_name": "IntSliderView",
            "continuous_update": true,
            "description": "Trials",
            "description_tooltip": null,
            "disabled": false,
            "layout": "IPY_MODEL_2a7b170186f44b3585297bc5d56ca019",
            "max": 100,
            "min": 1,
            "orientation": "horizontal",
            "readout": true,
            "readout_format": "d",
            "step": 1,
            "style": "IPY_MODEL_5d6c8d5c2fd74752ab3beac79c8d8c85",
            "value": 37
          }
        },
        "d02fc0102c264bf4a9ce56dde9aa56dc": {
          "model_module": "@jupyter-widgets/controls",
          "model_name": "FloatSliderModel",
          "model_module_version": "1.5.0",
          "state": {
            "_dom_classes": [],
            "_model_module": "@jupyter-widgets/controls",
            "_model_module_version": "1.5.0",
            "_model_name": "FloatSliderModel",
            "_view_count": null,
            "_view_module": "@jupyter-widgets/controls",
            "_view_module_version": "1.5.0",
            "_view_name": "FloatSliderView",
            "continuous_update": true,
            "description": "p(head)",
            "description_tooltip": null,
            "disabled": false,
            "layout": "IPY_MODEL_8f2e3598a5d94fdb9ce1b335df9b0a0d",
            "max": 1,
            "min": 0,
            "orientation": "horizontal",
            "readout": true,
            "readout_format": ".2f",
            "step": 0.01,
            "style": "IPY_MODEL_a70eb3f56b62423d9aca47dbc9eaa154",
            "value": 0.62
          }
        },
        "e4411feefe304e23a4244343fe323ec5": {
          "model_module": "@jupyter-widgets/output",
          "model_name": "OutputModel",
          "model_module_version": "1.0.0",
          "state": {
            "_dom_classes": [],
            "_model_module": "@jupyter-widgets/output",
            "_model_module_version": "1.0.0",
            "_model_name": "OutputModel",
            "_view_count": null,
            "_view_module": "@jupyter-widgets/output",
            "_view_module_version": "1.0.0",
            "_view_name": "OutputView",
            "layout": "IPY_MODEL_ffcf35bc47a8437295bb9592ceb05408",
            "msg_id": "",
            "outputs": [
              {
                "output_type": "display_data",
                "data": {
                  "text/plain": "<Figure size 1000x600 with 1 Axes>",
                  "image/png": "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\n"
                },
                "metadata": {}
              }
            ]
          }
        },
        "98284e9d34e44a3bbca365a4da89ba46": {
          "model_module": "@jupyter-widgets/base",
          "model_name": "LayoutModel",
          "model_module_version": "1.2.0",
          "state": {
            "_model_module": "@jupyter-widgets/base",
            "_model_module_version": "1.2.0",
            "_model_name": "LayoutModel",
            "_view_count": null,
            "_view_module": "@jupyter-widgets/base",
            "_view_module_version": "1.2.0",
            "_view_name": "LayoutView",
            "align_content": null,
            "align_items": null,
            "align_self": null,
            "border": null,
            "bottom": null,
            "display": null,
            "flex": null,
            "flex_flow": null,
            "grid_area": null,
            "grid_auto_columns": null,
            "grid_auto_flow": null,
            "grid_auto_rows": null,
            "grid_column": null,
            "grid_gap": null,
            "grid_row": null,
            "grid_template_areas": null,
            "grid_template_columns": null,
            "grid_template_rows": null,
            "height": null,
            "justify_content": null,
            "justify_items": null,
            "left": null,
            "margin": null,
            "max_height": null,
            "max_width": null,
            "min_height": null,
            "min_width": null,
            "object_fit": null,
            "object_position": null,
            "order": null,
            "overflow": null,
            "overflow_x": null,
            "overflow_y": null,
            "padding": null,
            "right": null,
            "top": null,
            "visibility": null,
            "width": null
          }
        },
        "2a7b170186f44b3585297bc5d56ca019": {
          "model_module": "@jupyter-widgets/base",
          "model_name": "LayoutModel",
          "model_module_version": "1.2.0",
          "state": {
            "_model_module": "@jupyter-widgets/base",
            "_model_module_version": "1.2.0",
            "_model_name": "LayoutModel",
            "_view_count": null,
            "_view_module": "@jupyter-widgets/base",
            "_view_module_version": "1.2.0",
            "_view_name": "LayoutView",
            "align_content": null,
            "align_items": null,
            "align_self": null,
            "border": null,
            "bottom": null,
            "display": null,
            "flex": null,
            "flex_flow": null,
            "grid_area": null,
            "grid_auto_columns": null,
            "grid_auto_flow": null,
            "grid_auto_rows": null,
            "grid_column": null,
            "grid_gap": null,
            "grid_row": null,
            "grid_template_areas": null,
            "grid_template_columns": null,
            "grid_template_rows": null,
            "height": null,
            "justify_content": null,
            "justify_items": null,
            "left": null,
            "margin": null,
            "max_height": null,
            "max_width": null,
            "min_height": null,
            "min_width": null,
            "object_fit": null,
            "object_position": null,
            "order": null,
            "overflow": null,
            "overflow_x": null,
            "overflow_y": null,
            "padding": null,
            "right": null,
            "top": null,
            "visibility": null,
            "width": null
          }
        },
        "5d6c8d5c2fd74752ab3beac79c8d8c85": {
          "model_module": "@jupyter-widgets/controls",
          "model_name": "SliderStyleModel",
          "model_module_version": "1.5.0",
          "state": {
            "_model_module": "@jupyter-widgets/controls",
            "_model_module_version": "1.5.0",
            "_model_name": "SliderStyleModel",
            "_view_count": null,
            "_view_module": "@jupyter-widgets/base",
            "_view_module_version": "1.2.0",
            "_view_name": "StyleView",
            "description_width": "",
            "handle_color": null
          }
        },
        "8f2e3598a5d94fdb9ce1b335df9b0a0d": {
          "model_module": "@jupyter-widgets/base",
          "model_name": "LayoutModel",
          "model_module_version": "1.2.0",
          "state": {
            "_model_module": "@jupyter-widgets/base",
            "_model_module_version": "1.2.0",
            "_model_name": "LayoutModel",
            "_view_count": null,
            "_view_module": "@jupyter-widgets/base",
            "_view_module_version": "1.2.0",
            "_view_name": "LayoutView",
            "align_content": null,
            "align_items": null,
            "align_self": null,
            "border": null,
            "bottom": null,
            "display": null,
            "flex": null,
            "flex_flow": null,
            "grid_area": null,
            "grid_auto_columns": null,
            "grid_auto_flow": null,
            "grid_auto_rows": null,
            "grid_column": null,
            "grid_gap": null,
            "grid_row": null,
            "grid_template_areas": null,
            "grid_template_columns": null,
            "grid_template_rows": null,
            "height": null,
            "justify_content": null,
            "justify_items": null,
            "left": null,
            "margin": null,
            "max_height": null,
            "max_width": null,
            "min_height": null,
            "min_width": null,
            "object_fit": null,
            "object_position": null,
            "order": null,
            "overflow": null,
            "overflow_x": null,
            "overflow_y": null,
            "padding": null,
            "right": null,
            "top": null,
            "visibility": null,
            "width": null
          }
        },
        "a70eb3f56b62423d9aca47dbc9eaa154": {
          "model_module": "@jupyter-widgets/controls",
          "model_name": "SliderStyleModel",
          "model_module_version": "1.5.0",
          "state": {
            "_model_module": "@jupyter-widgets/controls",
            "_model_module_version": "1.5.0",
            "_model_name": "SliderStyleModel",
            "_view_count": null,
            "_view_module": "@jupyter-widgets/base",
            "_view_module_version": "1.2.0",
            "_view_name": "StyleView",
            "description_width": "",
            "handle_color": null
          }
        },
        "ffcf35bc47a8437295bb9592ceb05408": {
          "model_module": "@jupyter-widgets/base",
          "model_name": "LayoutModel",
          "model_module_version": "1.2.0",
          "state": {
            "_model_module": "@jupyter-widgets/base",
            "_model_module_version": "1.2.0",
            "_model_name": "LayoutModel",
            "_view_count": null,
            "_view_module": "@jupyter-widgets/base",
            "_view_module_version": "1.2.0",
            "_view_name": "LayoutView",
            "align_content": null,
            "align_items": null,
            "align_self": null,
            "border": null,
            "bottom": null,
            "display": null,
            "flex": null,
            "flex_flow": null,
            "grid_area": null,
            "grid_auto_columns": null,
            "grid_auto_flow": null,
            "grid_auto_rows": null,
            "grid_column": null,
            "grid_gap": null,
            "grid_row": null,
            "grid_template_areas": null,
            "grid_template_columns": null,
            "grid_template_rows": null,
            "height": null,
            "justify_content": null,
            "justify_items": null,
            "left": null,
            "margin": null,
            "max_height": null,
            "max_width": null,
            "min_height": null,
            "min_width": null,
            "object_fit": null,
            "object_position": null,
            "order": null,
            "overflow": null,
            "overflow_x": null,
            "overflow_y": null,
            "padding": null,
            "right": null,
            "top": null,
            "visibility": null,
            "width": null
          }
        }
      }
    }
  },
  "cells": [
    {
      "cell_type": "markdown",
      "source": [
        "## **Exercise 1**: Introduction to Probability Theory in AI\n",
        "\n",
        "---\n",
        "\n",
        "**Objective**: Understand the fundamentals of probability theory and its application in AI for decision-making under uncertainty."
      ],
      "metadata": {
        "id": "Vt1S86ykHd4i"
      }
    },
    {
      "cell_type": "markdown",
      "source": [
        "1. Basic Probability Calculation: Write Python functions that calculate the following:"
      ],
      "metadata": {
        "id": "uAnSDHHloEta"
      }
    },
    {
      "cell_type": "code",
      "source": [
        "def joint_probability(p_A, p_B):\n",
        "  return p_A*p_B\n",
        "\n",
        "def marginal_probability(p_A, p_B):\n",
        "  return p_A + p_B - joint_probability(p_A, p_B)\n",
        "\n",
        "def conditional_probability(p_B_given_A, p_A, p_B):\n",
        "  return (p_B_given_A * p_A) / p_B"
      ],
      "metadata": {
        "id": "tXpnZYuqoJpi"
      },
      "execution_count": 4,
      "outputs": []
    },
    {
      "cell_type": "markdown",
      "source": [
        "### **Assessment Task 1**: Basic Probability Calculations\n",
        "\n",
        "---\n"
      ],
      "metadata": {
        "id": "OWhehbfzoKfX"
      }
    },
    {
      "cell_type": "markdown",
      "source": [
        "1. Start with a Coding Task:"
      ],
      "metadata": {
        "id": "4jR2yvZwobtd"
      }
    },
    {
      "cell_type": "code",
      "source": [
        "def joint_probability(p_A, p_B):\n",
        "  return p_A*p_B\n",
        "\n",
        "def marginal_probability(p_A, p_B):\n",
        "  return p_A + p_B - joint_probability(p_A, p_B)\n",
        "\n",
        "def conditional_probability(p_B_given_A, p_A, p_B):\n",
        "  return (p_B_given_A * p_A) / p_B\n"
      ],
      "metadata": {
        "id": "6KtPBjIJoeBF"
      },
      "execution_count": 5,
      "outputs": []
    },
    {
      "cell_type": "markdown",
      "source": [
        "2. Interactive Question:"
      ],
      "metadata": {
        "id": "aT6a93whopLe"
      }
    },
    {
      "cell_type": "code",
      "execution_count": 6,
      "metadata": {
        "colab": {
          "base_uri": "https://localhost:8080/"
        },
        "id": "u4zauIrOGyjv",
        "outputId": "aedffb30-b257-4f2a-cda7-bdc8a1412b6c"
      },
      "outputs": [
        {
          "output_type": "stream",
          "name": "stdout",
          "text": [
            "Joint Probability: 0.12\n",
            "Marginal Probability: 0.58\n",
            "Conditional Probability: 0.6\n"
          ]
        }
      ],
      "source": [
        "p_A = 0.3\n",
        "p_B = 0.4\n",
        "p_B_given_A = 0.8\n",
        "\n",
        "print(f\"Joint Probability: {joint_probability(p_A, p_B)}\")\n",
        "print(f\"Marginal Probability: {marginal_probability(p_A, p_B)}\")\n",
        "print(f\"Conditional Probability: {conditional_probability(p_B_given_A, p_A, p_B)}\")"
      ]
    },
    {
      "cell_type": "markdown",
      "source": [
        "## **Exercise 2**: Decision-Making Under Uncertainty\n",
        "\n",
        "---\n",
        "\n",
        "**Objective**: Apply probability theory to make decisions in uncertain environments, such as AI systems that need to weigh the outcomes of different choices."
      ],
      "metadata": {
        "id": "m28b0OWwKHSv"
      }
    },
    {
      "cell_type": "code",
      "source": [
        "import numpy as np"
      ],
      "metadata": {
        "id": "C6xpSUAVKTmB"
      },
      "execution_count": 7,
      "outputs": []
    },
    {
      "cell_type": "code",
      "source": [
        "def simulate_decision(num_simulations, p_success, reward_success, reward_failure):\n",
        "  outcomes = []\n",
        "  for _ in range(num_simulations):\n",
        "    if np.random.rand() < p_success:\n",
        "      outcomes.append(reward_success)\n",
        "    else:\n",
        "      outcomes.append(reward_failure)\n",
        "  return np.mean(outcomes)\n",
        "\n",
        "\n",
        "p_success = 0.7\n",
        "reward_success = 1000\n",
        "reward_failure = -500\n",
        "\n",
        "average_outcome = simulate_decision(1000, p_success, reward_success, reward_failure)\n",
        "print(f\"Expected Value of Decision: {average_outcome}\")"
      ],
      "metadata": {
        "id": "In0Hr2faKy_E",
        "colab": {
          "base_uri": "https://localhost:8080/"
        },
        "outputId": "1cdac266-af42-4c35-e31d-1306bcf61aff"
      },
      "execution_count": 8,
      "outputs": [
        {
          "output_type": "stream",
          "name": "stdout",
          "text": [
            "Expected Value of Decision: 536.5\n"
          ]
        }
      ]
    },
    {
      "cell_type": "markdown",
      "source": [
        "### **Assessment Task 2**: Decision-Making Under Uncertainty\n",
        "\n",
        "---\n"
      ],
      "metadata": {
        "id": "eoC96ri1pkzn"
      }
    },
    {
      "cell_type": "markdown",
      "source": [
        "1. Interactive Decision Simulation"
      ],
      "metadata": {
        "id": "ESoM1QivpxWe"
      }
    },
    {
      "cell_type": "code",
      "source": [
        "import numpy as np\n",
        "\n",
        "def simulate_decision(probability_of_success, iterations=1000):\n",
        "    success_reward = 1000\n",
        "    failure_penalty = -500\n",
        "\n",
        "    results = []\n",
        "\n",
        "    for _ in range(iterations):\n",
        "        if np.random.rand() < probability_of_success:\n",
        "            results.append(success_reward)\n",
        "        else:\n",
        "            results.append(failure_penalty)\n",
        "\n",
        "    average_return = np.mean(results)\n",
        "    return average_return, results"
      ],
      "metadata": {
        "id": "cCL7q8oOpuL8"
      },
      "execution_count": 9,
      "outputs": []
    },
    {
      "cell_type": "markdown",
      "source": [
        "2. Interactive Task"
      ],
      "metadata": {
        "id": "08K9fRojp1B3"
      }
    },
    {
      "cell_type": "code",
      "source": [
        "def run_simulation():\n",
        "    try:\n",
        "        probability_of_success = float(input(\"Enter the probability of success (0 to 1): \"))\n",
        "        if not (0 <= probability_of_success <= 1):\n",
        "            raise ValueError(\"Probability must be between 0 and 1.\")\n",
        "    except ValueError as e:\n",
        "        print(f\"Invalid input: {e}\")\n",
        "        return\n",
        "\n",
        "    average_return, results = simulate_decision(probability_of_success)\n",
        "\n",
        "    print(f\"Average return after 1000 iterations: ${average_return:.2f}\")\n",
        "    print(f\"Total profit/loss after 1000 iterations: ${sum(results):.2f}\")\n",
        "\n",
        "if __name__ == \"__main__\":\n",
        "    run_simulation()"
      ],
      "metadata": {
        "colab": {
          "base_uri": "https://localhost:8080/"
        },
        "id": "4FfnvI1ep2hR",
        "outputId": "e558dea3-8ccd-4116-e2bc-37366b155cef"
      },
      "execution_count": 10,
      "outputs": [
        {
          "output_type": "stream",
          "name": "stdout",
          "text": [
            "Enter the probability of success (0 to 1): 0.7\n",
            "Average return after 1000 iterations: $532.00\n",
            "Total profit/loss after 1000 iterations: $532000.00\n"
          ]
        }
      ]
    },
    {
      "cell_type": "markdown",
      "source": [
        "**Feedback**"
      ],
      "metadata": {
        "id": "qhT8i2JZ0kzC"
      }
    },
    {
      "cell_type": "markdown",
      "source": [
        "- Probability distributions play a critical role in decision-making. The expected value guides the decision, but variance and risk must also be considered.\n",
        "- A high variance in outcomes means there's more uncertainty, even if the expected return is positive."
      ],
      "metadata": {
        "id": "t4Vdj3cV0nuQ"
      }
    },
    {
      "cell_type": "markdown",
      "source": [
        "## **Exercise 3**: Applying Probability Theory in AI for Diagnosis\n",
        "\n",
        "---\n",
        "\n",
        "**Objective**: Use probabilistic reasoning to model uncertainty in a real-world scenario such as medical diagnosis."
      ],
      "metadata": {
        "id": "6zbaC_v7MnXL"
      }
    },
    {
      "cell_type": "code",
      "source": [
        "def bayesian_inference(prior, likelihood_positive_given_disease, likelihood_positive):\n",
        "  posterior = (likelihood_positive_given_disease * prior) / likelihood_positive\n",
        "  return posterior\n",
        "\n",
        "\n",
        "prior_disease = 0.01\n",
        "likelihood_positive_given_disease = 0.9\n",
        "likelihood_positive = 0.05\n",
        "\n",
        "posterior_disease = bayesian_inference (prior_disease, likelihood_positive_given_disease, likelihood_positive)\n",
        "print(f\"Posterior Probability of Disease Given Positive Test: {posterior_disease}\")"
      ],
      "metadata": {
        "id": "KOaCNSYqM7NZ",
        "colab": {
          "base_uri": "https://localhost:8080/"
        },
        "outputId": "fee566a9-c203-4e2b-e014-3b63ce19a2a7"
      },
      "execution_count": 11,
      "outputs": [
        {
          "output_type": "stream",
          "name": "stdout",
          "text": [
            "Posterior Probability of Disease Given Positive Test: 0.18000000000000002\n"
          ]
        }
      ]
    },
    {
      "cell_type": "markdown",
      "source": [
        "### **Assessment Task 3**: Bayesian Inference\n",
        "\n",
        "---\n"
      ],
      "metadata": {
        "id": "dGFeFOssqBQk"
      }
    },
    {
      "cell_type": "markdown",
      "source": [
        "1. Interactive Bayesian Model"
      ],
      "metadata": {
        "id": "6xDu8ACMqHZr"
      }
    },
    {
      "cell_type": "code",
      "source": [
        "def bayesian_inference(prior_H, likelihood_E_given_H, false_positive_rate, prior_not_H):\n",
        "    evidence_E = (likelihood_E_given_H * prior_H) + (false_positive_rate * prior_not_H)\n",
        "\n",
        "    posterior_H_given_E = (likelihood_E_given_H * prior_H) / evidence_E\n",
        "\n",
        "    return posterior_H_given_E"
      ],
      "metadata": {
        "id": "IsA3VenNqMAN"
      },
      "execution_count": 12,
      "outputs": []
    },
    {
      "cell_type": "markdown",
      "source": [
        "2. Interactive Scenario"
      ],
      "metadata": {
        "id": "xy7bl_NKqNov"
      }
    },
    {
      "cell_type": "code",
      "source": [
        "prior_H = 0.01\n",
        "likelihood_E_given_H = 0.9\n",
        "false_positive_rate = 0.05\n",
        "prior_not_H = 1 - prior_H\n",
        "\n",
        "posterior_H_given_E = bayesian_inference(prior_H, likelihood_E_given_H, false_positive_rate, prior_not_H)\n",
        "\n",
        "print(f\"Probability of having the disease given a positive test result: {posterior_H_given_E:.4f}\")"
      ],
      "metadata": {
        "colab": {
          "base_uri": "https://localhost:8080/"
        },
        "id": "kWclaY1OqQa4",
        "outputId": "f6a75efd-758d-4d79-ef45-567940a01ba6"
      },
      "execution_count": 13,
      "outputs": [
        {
          "output_type": "stream",
          "name": "stdout",
          "text": [
            "Probability of having the disease given a positive test result: 0.1538\n"
          ]
        }
      ]
    },
    {
      "cell_type": "markdown",
      "source": [
        "## **Exercise 4**: Probability Distribution in AI\n",
        "\n",
        "---\n",
        "\n",
        "**Objective**: Work with probability distributions that are key in AI for representing uncertainty."
      ],
      "metadata": {
        "id": "ALR_5O_YOKAM"
      }
    },
    {
      "cell_type": "code",
      "source": [
        "p_purchase_given_cart = 0.4\n",
        "p_cart = 0.3\n",
        "\n",
        "p_purchase = conditional_probability(p_purchase_given_cart, p_cart, 1)\n",
        "print(f\"Probability of Purchase: {p_purchase}\")"
      ],
      "metadata": {
        "id": "yQWfdk5dOWF2",
        "colab": {
          "base_uri": "https://localhost:8080/"
        },
        "outputId": "52826f78-a59c-4217-d13f-7bb1479ff62b"
      },
      "execution_count": 14,
      "outputs": [
        {
          "output_type": "stream",
          "name": "stdout",
          "text": [
            "Probability of Purchase: 0.12\n"
          ]
        }
      ]
    },
    {
      "cell_type": "markdown",
      "source": [
        "### **Assessment Task 4**: Real-World Scenario\n",
        "\n",
        "---\n"
      ],
      "metadata": {
        "id": "bnweRluMrCEr"
      }
    },
    {
      "cell_type": "markdown",
      "source": [
        "1. Interactive Real-World Problem"
      ],
      "metadata": {
        "id": "J3koXbR1rF7Q"
      }
    },
    {
      "cell_type": "code",
      "source": [
        "def rain_prediction(humidity_level, cloud_cover_level):\n",
        "    p_humidity = humidity_level\n",
        "    p_cloud = cloud_cover_level\n",
        "\n",
        "    p_rain = 0.3\n",
        "    p_humidity_given_rain = 0.8\n",
        "    p_cloud_given_rain = 0.7\n",
        "\n",
        "    return (p_humidity_given_rain * p_cloud_given_rain * p_rain) / (p_humidity * p_cloud)"
      ],
      "metadata": {
        "id": "qRs1EElyrHa5"
      },
      "execution_count": 15,
      "outputs": []
    },
    {
      "cell_type": "markdown",
      "source": [
        "2. Scenario Simulation"
      ],
      "metadata": {
        "id": "Wqr5BgzPrNH3"
      }
    },
    {
      "cell_type": "code",
      "source": [
        "humidity_level = float(input(\"Enter the humidity level (0 to 1): \"))\n",
        "cloud_cover_level = float(input(\"Enter the cloud cover level (0 to 1): \"))\n",
        "\n",
        "rain_prob = rain_prediction(humidity_level, cloud_cover_level)\n",
        "print(f\"\\nProbability of rain: {rain_prob:.2f}\")"
      ],
      "metadata": {
        "colab": {
          "base_uri": "https://localhost:8080/"
        },
        "id": "6YFXcUiurO-I",
        "outputId": "b084849d-c484-4a85-b096-326a5a552a8d"
      },
      "execution_count": 16,
      "outputs": [
        {
          "output_type": "stream",
          "name": "stdout",
          "text": [
            "Enter the humidity level (0 to 1): 0.4\n",
            "Enter the cloud cover level (0 to 1): 0.8\n",
            "\n",
            "Probability of rain: 0.52\n"
          ]
        }
      ]
    },
    {
      "cell_type": "markdown",
      "source": [
        "**Feedback**"
      ],
      "metadata": {
        "id": "lILklip40EPe"
      }
    },
    {
      "cell_type": "markdown",
      "source": [
        "Increasing Humidity\n",
        "- As humidity increases, the probability of rain typically increases because higher humidity is more likely when it rains.\n",
        "\n",
        "Increasing Cloud Cover\n",
        "- Similarly, increased cloud cover generally corresponds to a higher chance of rain."
      ],
      "metadata": {
        "id": "WiMPexF20Ik5"
      }
    },
    {
      "cell_type": "markdown",
      "source": [
        "## **Exercise 5**: Real-World Application of Probability in AI\n",
        "\n",
        "---\n",
        "\n",
        "**Objective**: Apply probability theory to real-world AI scenarios, such as predicting customer behavior or making decisions in uncertain markets."
      ],
      "metadata": {
        "id": "sXM-X-zdO76_"
      }
    },
    {
      "cell_type": "code",
      "source": [
        "import numpy as np\n",
        "import matplotlib.pyplot as plt"
      ],
      "metadata": {
        "id": "X-LdRmE9PfSc"
      },
      "execution_count": 17,
      "outputs": []
    },
    {
      "cell_type": "code",
      "source": [
        "n_trials = 1000\n",
        "p_head = 0.5\n",
        "binomial_distribution = np.random.binomial(n = 1, p = p_head, size = n_trials)\n",
        "\n",
        "plt.hist(binomial_distribution, bins = 2)\n",
        "plt.title('Binomial Distribution (Coin Flips)')\n",
        "plt.show()"
      ],
      "metadata": {
        "id": "F4lto7qSPsnV",
        "colab": {
          "base_uri": "https://localhost:8080/",
          "height": 457
        },
        "outputId": "28a2b11b-32a9-4ee2-d3a2-1b8d22096845"
      },
      "execution_count": 18,
      "outputs": [
        {
          "output_type": "display_data",
          "data": {
            "text/plain": [
              "<Figure size 640x480 with 1 Axes>"
            ],
            "image/png": "[encoded data removed]"
          },
          "metadata": {}
        }
      ]
    },
    {
      "cell_type": "markdown",
      "source": [
        "### **Assessment Task 5**: Probability Distributions Visualization\n",
        "\n",
        "---\n"
      ],
      "metadata": {
        "id": "qFVNjL6orRlI"
      }
    },
    {
      "cell_type": "markdown",
      "source": [
        "1. Interactive Visualization Task"
      ],
      "metadata": {
        "id": "wVCrxu38rd8I"
      }
    },
    {
      "cell_type": "code",
      "source": [
        "import numpy as np\n",
        "import matplotlib.pyplot as plt\n",
        "import seaborn as sns\n",
        "from scipy.stats import norm, binom\n",
        "\n",
        "sns.set(style=\"whitegrid\")\n",
        "\n",
        "# Generating and plotting Binomial Distribution\n",
        "def plot_binomial_distribution(n, p):\n",
        "    x = np.arange(0, n + 1)\n",
        "    binom_probs = binom.pmf(x, n, p)\n",
        "\n",
        "    plt.figure(figsize=(10, 6))\n",
        "    plt.bar(x, binom_probs, color='skyblue')\n",
        "    plt.title(f'Binomial Distribution: n={n}, p={p}')\n",
        "    plt.xlabel('Number of successes')\n",
        "    plt.ylabel('Probability')\n",
        "    plt.show()\n",
        "\n",
        "# Generating and plotting Normal Distribution\n",
        "def plot_normal_distribution(mu, sigma):\n",
        "    x = np.linspace(mu - 4*sigma, mu + 4*sigma, 1000)\n",
        "    plt.figure(figsize=(10, 6))\n",
        "    plt.plot(x, norm.pdf(x, mu, sigma), color='red')\n",
        "    plt.title(f'Normal Distribution: μ={mu}, σ={sigma}')\n",
        "    plt.xlabel('Value')\n",
        "    plt.ylabel('Probability Density')\n",
        "    plt.show()\n",
        "\n",
        "plot_binomial_distribution(10, 0.5)  # Binomial Distribution with n=10, p=0.5\n",
        "plot_normal_distribution(0, 1)"
      ],
      "metadata": {
        "colab": {
          "base_uri": "https://localhost:8080/",
          "height": 1000
        },
        "id": "iS6BWYkKrfZ0",
        "outputId": "6c014456-7cb8-4414-ea52-bfc5f04bc74f"
      },
      "execution_count": 3,
      "outputs": [
        {
          "output_type": "display_data",
          "data": {
            "text/plain": [
              "<Figure size 1000x600 with 1 Axes>"
            ],
            "image/png": "[encoded data removed]"
          },
          "metadata": {}
        },
        {
          "output_type": "display_data",
          "data": {
            "text/plain": [
              "<Figure size 1000x600 with 1 Axes>"
            ],
            "image/png": "[encoded data removed]"
          },
          "metadata": {}
        }
      ]
    },
    {
      "cell_type": "markdown",
      "source": [
        "2. Interactive Question  \n",
        "- **Task**: Simulate 1000 coin flips using a binomial distribution and visualize the outcomes."
      ],
      "metadata": {
        "id": "ayS0KFsFrisF"
      }
    },
    {
      "cell_type": "code",
      "source": [
        "def simulate_coin_flips(trials, prob_head, num_simulations):\n",
        "    outcomes = np.random.binomial(trials, prob_head, num_simulations)\n",
        "\n",
        "    plt.figure(figsize=(10, 6))\n",
        "    sns.histplot(outcomes, bins=range(trials+2), kde=False, color='skyblue')\n",
        "    plt.title(f'Simulation of {num_simulations} Coin Flips: n={trials}, p={prob_head}')\n",
        "    plt.xlabel('Number of heads')\n",
        "    plt.ylabel('Frequency')\n",
        "    plt.show()\n",
        "\n",
        "simulate_coin_flips(10, 0.5, 1000)"
      ],
      "metadata": {
        "colab": {
          "base_uri": "https://localhost:8080/",
          "height": 556
        },
        "id": "PrrYthLQrqEI",
        "outputId": "a40638fb-0f59-4ad6-ea2d-b630edc31b6d"
      },
      "execution_count": 19,
      "outputs": [
        {
          "output_type": "display_data",
          "data": {
            "text/plain": [
              "<Figure size 1000x600 with 1 Axes>"
            ],
            "image/png": "[encoded data removed]"
          },
          "metadata": {}
        }
      ]
    },
    {
      "cell_type": "markdown",
      "source": [
        "**Follow-Up** - How does increasing the number of trials or changing the probability of heads affect the distribution?\n",
        "-\n",
        "Increasing the number of trials in a probability experiment, like flipping a coin, makes the distribution of results more predictable and closer to the expected probability. For example, if the probability of heads is 0.5, more trials will show the outcomes clustering around 50% heads. Changing the probability of heads alters the distribution's center. If the probability of heads is more than 0.5, the distribution will shift towards more heads; if less, it shifts towards more tails."
      ],
      "metadata": {
        "id": "e3G8IaSlr0Pf"
      }
    },
    {
      "cell_type": "markdown",
      "source": [
        "3. Interactive Graph"
      ],
      "metadata": {
        "id": "DMt6Mb_qsKfD"
      }
    },
    {
      "cell_type": "code",
      "source": [
        "import ipywidgets as widgets\n",
        "from IPython.display import display\n",
        "\n",
        "# Interactive widget for binomial distribution\n",
        "def interactive_binomial(trials, p):\n",
        "    simulate_coin_flips(trials, p, 1000)\n",
        "\n",
        "# Setting up sliders\n",
        "trial_slider = widgets.IntSlider(min=1, max=100, step=1, value=10, description='Trials')\n",
        "prob_slider = widgets.FloatSlider(min=0, max=1, step=0.01, value=0.5, description='p(head)')\n",
        "\n",
        "# Display interactive widget\n",
        "display(widgets.interactive(interactive_binomial, trials=trial_slider, p=prob_slider))"
      ],
      "metadata": {
        "colab": {
          "base_uri": "https://localhost:8080/",
          "height": 620,
          "referenced_widgets": [
            "d881f191aced4f4ead7c57cddfc702c6",
            "e99cffe012b94a0eadff5322ffb7d19d",
            "d02fc0102c264bf4a9ce56dde9aa56dc",
            "e4411feefe304e23a4244343fe323ec5",
            "98284e9d34e44a3bbca365a4da89ba46",
            "2a7b170186f44b3585297bc5d56ca019",
            "5d6c8d5c2fd74752ab3beac79c8d8c85",
            "8f2e3598a5d94fdb9ce1b335df9b0a0d",
            "a70eb3f56b62423d9aca47dbc9eaa154",
            "ffcf35bc47a8437295bb9592ceb05408"
          ]
        },
        "id": "b0yluU6rsQcK",
        "outputId": "55829d6f-c0a2-44e1-9a06-f046411349d8"
      },
      "execution_count": 20,
      "outputs": [
        {
          "output_type": "display_data",
          "data": {
            "text/plain": [
              "interactive(children=(IntSlider(value=10, description='Trials', min=1), FloatSlider(value=0.5, description='p(…"
            ],
            "application/vnd.jupyter.widget-view+json": {
              "version_major": 2,
              "version_minor": 0,
              "model_id": "d881f191aced4f4ead7c57cddfc702c6"
            }
          },
          "metadata": {}
        }
      ]
    },
    {
      "cell_type": "markdown",
      "source": [
        "**Feedback**\n"
      ],
      "metadata": {
        "id": "GieOJWdVzT7Y"
      }
    },
    {
      "cell_type": "markdown",
      "source": [
        "- Increasing trials leads to a broader distribution with more possible outcomes.\n",
        "\n",
        "- Changing p(head) shifts the peak of the distribution:\n",
        "1. A p(head) of 0.5 is centered around n/2.\n",
        "2. A p(head) closer to 1 results in most trials resulting in heads."
      ],
      "metadata": {
        "id": "ocm_f09rzZjL"
      }
    }
  ]
}