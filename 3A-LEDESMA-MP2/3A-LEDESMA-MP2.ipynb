{
  "nbformat": 4,
  "nbformat_minor": 0,
  "metadata": {
    "colab": {
      "provenance": []
    },
    "kernelspec": {
      "name": "python3",
      "display_name": "Python 3"
    },
    "language_info": {
      "name": "python"
    }
  },
  "cells": [
    {
      "cell_type": "markdown",
      "source": [
        "## **Machine Problem: Implementing a Logic-Based Model in Python**\n",
        "\n",
        "---\n",
        "\n",
        "**Objective**\n",
        "\n",
        "- Implement propositional and predicate logic in Python to understand the fundamental\n",
        "operations of logic-based representation and its application in AI."
      ],
      "metadata": {
        "id": "um3O0OVYDLmr"
      }
    },
    {
      "cell_type": "markdown",
      "source": [
        "1. **Propositional Logic Operations**"
      ],
      "metadata": {
        "id": "SLY3wvFSdwoB"
      }
    },
    {
      "cell_type": "code",
      "execution_count": 2,
      "metadata": {
        "id": "0Meb0A8dc22J"
      },
      "outputs": [],
      "source": [
        "def AND(p, q):\n",
        "    return p and q\n",
        "\n",
        "def OR(p, q):\n",
        "    return p or q\n",
        "\n",
        "def NOT(p):\n",
        "    return not p\n",
        "\n",
        "def IMPLIES(p, q):\n",
        "    return (not p) or q\n"
      ]
    },
    {
      "cell_type": "markdown",
      "source": [
        "- The functions in this section implement the fundamental operations of propositional logic:\n",
        "\n",
        "1. **AND(p, q)**\n",
        "- **Logical conjunction**, returns True if both p and q are True.\n",
        "2. **OR(p, q)**\n",
        "- **Logical disjunction**, returns True if either p or q is True.\n",
        "3. **NOT(p)**\n",
        "- **Logical negation**, returns the opposite of p.\n",
        "4. **IMPLIES(p, q)**\n",
        "- **Logical implication**, returns True unless p is True and q is False."
      ],
      "metadata": {
        "id": "LDG8z7XrdlGw"
      }
    },
    {
      "cell_type": "markdown",
      "source": [
        "- **Testing Propositional Logic Functions**"
      ],
      "metadata": {
        "id": "Yyi8fWrweGU3"
      }
    },
    {
      "cell_type": "code",
      "source": [
        "print(AND(True, False))  # Expected: False\n",
        "print(OR(True, False))   # Expected: True\n",
        "print(NOT(True))          # Expected: False\n",
        "print(IMPLIES(True, False))  # Expected: False"
      ],
      "metadata": {
        "colab": {
          "base_uri": "https://localhost:8080/"
        },
        "id": "6kgAcJ2oeJz4",
        "outputId": "a011c4ff-5569-445f-9f8c-db79710635fa"
      },
      "execution_count": 3,
      "outputs": [
        {
          "output_type": "stream",
          "name": "stdout",
          "text": [
            "False\n",
            "True\n",
            "False\n",
            "False\n"
          ]
        }
      ]
    },
    {
      "cell_type": "markdown",
      "source": [
        "2. **Evaluate Logical Statements**"
      ],
      "metadata": {
        "id": "7JLFE6UPeM_8"
      }
    },
    {
      "cell_type": "code",
      "source": [
        "def evaluate(statement, values):\n",
        "    statement = statement.replace('and', ' and ').replace('or', ' or ').replace('not', ' not ').replace('=>', ' or not ')\n",
        "    for var, val in values.items():\n",
        "        statement = statement.replace(var, str(val))\n",
        "    return eval(statement)"
      ],
      "metadata": {
        "id": "cfu_dyLweQGh"
      },
      "execution_count": 4,
      "outputs": []
    },
    {
      "cell_type": "markdown",
      "source": [
        "- This function evaluates logical expressions represented as strings. The function replaces logical operators with Python equivalents and substitutes variable names with their truth values. It then evaluates the final expression using Python's eval().\n",
        "\n",
        "- **Testing** - The function is tested with various logical expressions and truth values, validating its ability to correctly compute complex logical expressions."
      ],
      "metadata": {
        "id": "3Saxx_ZlecTQ"
      }
    },
    {
      "cell_type": "markdown",
      "source": [
        "- **Testing the Evaluation Function**"
      ],
      "metadata": {
        "id": "bD6nR8O1eRNI"
      }
    },
    {
      "cell_type": "code",
      "source": [
        "print(evaluate('A and B', {'A': True, 'B': False}))  # Expected: False\n",
        "print(evaluate('A or B', {'A': True, 'B': False}))   # Expected: True\n",
        "print(evaluate('not A', {'A': True}))                 # Expected: False\n",
        "print(evaluate('A => B', {'A': True, 'B': False}))    # Expected: False"
      ],
      "metadata": {
        "colab": {
          "base_uri": "https://localhost:8080/"
        },
        "id": "7B9oaGz3eTFE",
        "outputId": "91e60e30-94e5-4ad2-da5d-ba54426cc639"
      },
      "execution_count": 5,
      "outputs": [
        {
          "output_type": "stream",
          "name": "stdout",
          "text": [
            "False\n",
            "True\n",
            "False\n",
            "True\n"
          ]
        }
      ]
    },
    {
      "cell_type": "markdown",
      "source": [
        "3. **Extend to Predicate Logic**"
      ],
      "metadata": {
        "id": "n0-QUUqreVlF"
      }
    },
    {
      "cell_type": "code",
      "source": [
        "def forall(predicate, domain):\n",
        "    return all(predicate(x) for x in domain)\n",
        "\n",
        "def exists(predicate, domain):\n",
        "    return any(predicate(x) for x in domain)"
      ],
      "metadata": {
        "id": "Wa7dnDI8eXf5"
      },
      "execution_count": 6,
      "outputs": []
    },
    {
      "cell_type": "markdown",
      "source": [
        "- This section introduces predicate logic, which operates on functions and a domain of values\n",
        "\n",
        "1. **forall(predicate, domain)**\n",
        "- Checks if the predicate holds true for all elements in the domain.\n",
        "2. **exists(predicate, domain)**\n",
        "- Checks if the predicate holds true for at least one element in the domain.\n",
        "\n",
        "**Predicate logic functions** - are tested with a sample domain, demonstrating how they can be used to check conditions across multiple values."
      ],
      "metadata": {
        "id": "SdfUerHUenVi"
      }
    },
    {
      "cell_type": "markdown",
      "source": [
        "- **Testing Predicate Logic Functions**"
      ],
      "metadata": {
        "id": "lbNS43C2eZkX"
      }
    },
    {
      "cell_type": "code",
      "source": [
        "predicate = lambda x: x > 0\n",
        "domain = [1, 2, 3, -1, -2]\n",
        "\n",
        "print(forall(predicate, domain))  # Expected: False (because not all positive)\n",
        "print(exists(predicate, domain))  # Expected: True (because is there are positive numbers)"
      ],
      "metadata": {
        "colab": {
          "base_uri": "https://localhost:8080/"
        },
        "id": "e7JGZCPHebU2",
        "outputId": "904cf736-083a-4a60-f743-5d3dcac716bb"
      },
      "execution_count": 7,
      "outputs": [
        {
          "output_type": "stream",
          "name": "stdout",
          "text": [
            "False\n",
            "True\n"
          ]
        }
      ]
    },
    {
      "cell_type": "markdown",
      "source": [
        "4. **AI Agent Development**"
      ],
      "metadata": {
        "id": "T0QyUkYuedXi"
      }
    },
    {
      "cell_type": "code",
      "source": [
        "class SimpleAIAgent:\n",
        "    def __init__(self):\n",
        "        self.condition = True  # Example condition\n",
        "\n",
        "    def make_decision(self):\n",
        "        if AND(self.condition, True):  # Simple logic\n",
        "            return 'Take action A'\n",
        "        else:\n",
        "            return 'Take action B'\n",
        "\n",
        "# Create an AI agent instance\n",
        "agent = SimpleAIAgent()\n",
        "\n",
        "# Make a decision\n",
        "print(agent.make_decision())  # Expected: 'Take action A'"
      ],
      "metadata": {
        "colab": {
          "base_uri": "https://localhost:8080/"
        },
        "id": "3IFVichpefqS",
        "outputId": "4225cb73-6855-4cb1-b20b-ec5ddb7888e2"
      },
      "execution_count": 8,
      "outputs": [
        {
          "output_type": "stream",
          "name": "stdout",
          "text": [
            "Take action A\n"
          ]
        }
      ]
    },
    {
      "cell_type": "markdown",
      "source": [
        "- A simple AI agent is created using the logic functions. The agent makes a decision based on its internal condition using propositional logic. The AI agent’s decision-making process is structured to use the previously defined and_operation function.\n",
        "\n",
        "- Example - The AI agent is tested with a condition that leads it to decide between two actions (Take action A or Take action B), showcasing how logic can guide AI behavior."
      ],
      "metadata": {
        "id": "AuFGZaCefHaB"
      }
    },
    {
      "cell_type": "markdown",
      "source": [
        "**PYTHON SCRIPTS: EXPLANATION IN THE FUNCTION**"
      ],
      "metadata": {
        "id": "1C3Y9eSfehxb"
      }
    },
    {
      "cell_type": "code",
      "source": [
        "# Implementation of Logic Functions and AI Agent\n",
        "\n",
        "def and_operation(p, q):\n",
        "    \"\"\"Returns the result of the logical conjunction of p and q.\"\"\"\n",
        "    return p and q\n",
        "\n",
        "def or_operation(p, q):\n",
        "    \"\"\"Returns the result of the logical disjunction of p and q.\"\"\"\n",
        "    return p or q\n",
        "\n",
        "def not_operation(p):\n",
        "    \"\"\"Returns the result of the logical negation of p.\"\"\"\n",
        "    return not p\n",
        "\n",
        "def implies_operation(p, q):\n",
        "    \"\"\"Returns the result of the logical implication from p to q.\"\"\"\n",
        "    return not p or q\n",
        "\n",
        "def evaluate(statement, values):\n",
        "    \"\"\"\n",
        "    Evaluates a logical expression based on the provided truth values.\n",
        "\n",
        "    Args:\n",
        "    statement (str): A logical expression represented as a string.\n",
        "    values (dict): A dictionary that maps propositions to their truth values.\n",
        "\n",
        "    Returns:\n",
        "    bool: The truth value of the evaluated statement.\n",
        "    \"\"\"\n",
        "    statement = statement.replace('and', ' and ').replace('or', ' or ').replace('not', ' not ').replace('=>', ' or not ')\n",
        "    for var, val in values.items():\n",
        "        statement = statement.replace(var, str(val))\n",
        "    return eval(statement)\n",
        "\n",
        "def forall(predicate, domain):\n",
        "    \"\"\"Checks if a predicate holds true for every element in the domain.\"\"\"\n",
        "    return all(predicate(x) for x in domain)\n",
        "\n",
        "def exists(predicate, domain):\n",
        "    \"\"\"Checks if there is at least one element in the domain for which the predicate is true.\"\"\"\n",
        "    return any(predicate(x) for x in domain)\n",
        "\n",
        "class SimpleAIAgent:\n",
        "    def __init__(self):\n",
        "        \"\"\"Initializes the AI agent with a default condition.\"\"\"\n",
        "        self.condition = True  # Example condition\n",
        "\n",
        "    def make_decision(self):\n",
        "        \"\"\"Makes a decision based on the current condition.\"\"\"\n",
        "        if and_operation(self.condition, True):  # Simple logic\n",
        "            return 'Take action A'\n",
        "        else:\n",
        "            return 'Take action B'\n",
        "\n",
        "# Example Usage\n",
        "if __name__ == \"__main__\":\n",
        "    # Testing logic functions\n",
        "    print(and_operation(True, False))  # Expected: False\n",
        "    print(or_operation(True, False))   # Expected: True\n",
        "    print(not_operation(True))          # Expected: False\n",
        "    print(implies_operation(True, False))  # Expected: False\n",
        "\n",
        "    # Testing evaluation function\n",
        "    print(evaluate('A and B', {'A': True, 'B': False}))  # Expected: False\n",
        "    print(evaluate('A or B', {'A': True, 'B': False}))   # Expected: True\n",
        "\n",
        "    # Testing predicate logic\n",
        "    predicate = lambda x: x > 0\n",
        "    domain = [1, 2, 3, -1, -2]\n",
        "    print(forall(predicate, domain))  # Expected: False\n",
        "    print(exists(predicate, domain))  # Expected: True\n",
        "\n",
        "    # AI Agent Decision\n",
        "    agent = SimpleAIAgent()\n",
        "    print(agent.make_decision())  # Expected: 'Take action A'"
      ],
      "metadata": {
        "colab": {
          "base_uri": "https://localhost:8080/"
        },
        "id": "pFW5LmCketVY",
        "outputId": "b1a88588-6507-4bc1-d18f-8b66900cbc60"
      },
      "execution_count": 9,
      "outputs": [
        {
          "output_type": "stream",
          "name": "stdout",
          "text": [
            "False\n",
            "True\n",
            "False\n",
            "False\n",
            "False\n",
            "True\n",
            "False\n",
            "True\n",
            "Take action A\n"
          ]
        }
      ]
    }
  ]
}