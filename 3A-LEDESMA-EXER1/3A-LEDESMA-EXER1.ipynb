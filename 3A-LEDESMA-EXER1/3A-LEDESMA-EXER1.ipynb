{
  "nbformat": 4,
  "nbformat_minor": 0,
  "metadata": {
    "colab": {
      "provenance": []
    },
    "kernelspec": {
      "name": "python3",
      "display_name": "Python 3"
    },
    "language_info": {
      "name": "python"
    }
  },
  "cells": [
    {
      "cell_type": "markdown",
      "source": [
        "## **Exercise 1: Propositional Logic in Python**\n",
        "\n",
        "---\n",
        "\n",
        "\n",
        "**Objective**\n",
        "- Students will learn how to represent simple facts and rules using propositional logic, and\n",
        "implement them in Python."
      ],
      "metadata": {
        "id": "oLrpY0CMHqQK"
      }
    },
    {
      "cell_type": "code",
      "execution_count": 1,
      "metadata": {
        "colab": {
          "base_uri": "https://localhost:8080/"
        },
        "id": "3Tr0gfShiScE",
        "outputId": "75275c62-ac69-4811-d3e7-962e1c787bd4"
      },
      "outputs": [
        {
          "output_type": "stream",
          "name": "stdout",
          "text": [
            "It is raining.\n",
            "The match will not light.\n"
          ]
        }
      ],
      "source": [
        "# Represent the statements using propositional logic\n",
        "# p: It rains\n",
        "# q: The ground is wet\n",
        "# r: The match lights\n",
        "\n",
        "# If it rains, the ground will be wet\n",
        "p = True\n",
        "q = p  # Assuming the ground is wet if it rains\n",
        "p_implies_q = not p or q\n",
        "\n",
        "# If the ground is wet, the match will not light\n",
        "q = True  # Assuming the ground is wet\n",
        "r = False  # Assuming the match will not light\n",
        "q_implies_not_r = not q or not r\n",
        "\n",
        "# Evaluate the logical conditions\n",
        "if p:\n",
        "    print(\"It is raining.\")\n",
        "else:\n",
        "    print(\"It is not raining.\")\n",
        "\n",
        "if p_implies_q and q_implies_not_r:\n",
        "    r = False\n",
        "    print(\"The match will not light.\")\n",
        "else:\n",
        "    r = True\n",
        "    print(\"The match lights.\")"
      ]
    },
    {
      "cell_type": "markdown",
      "source": [
        "## **Exercise 2: Predicate Logic Representation**\n",
        "\n",
        "---\n",
        "\n",
        "**Objective**\n",
        "- Students will apply predicate logic to represent relationships between objects and\n",
        "implement them in Python.\n"
      ],
      "metadata": {
        "id": "DjaYRNy9q82w"
      }
    },
    {
      "cell_type": "code",
      "source": [
        "# Define the predicate for humans\n",
        "def isHuman(entity):\n",
        "    # Returns True if the entity is a human\n",
        "    return entity == \"Socrates\"\n",
        "\n",
        "# Define the predicate for mortals\n",
        "def isMortal(entity):\n",
        "    # If the entity is human, it is mortal\n",
        "    if isHuman(entity):\n",
        "        return True\n",
        "    return False\n",
        "\n",
        "# Check if Socrates is mortal\n",
        "entity = \"Socrates\"\n",
        "if isMortal(entity):\n",
        "    print(f\"{entity} is mortal.\")\n",
        "else:\n",
        "    print(f\"{entity} is not mortal.\")"
      ],
      "metadata": {
        "colab": {
          "base_uri": "https://localhost:8080/"
        },
        "id": "FzIetNiG-Ll5",
        "outputId": "fd407c56-e707-4326-e286-e989d4d1e49d"
      },
      "execution_count": 2,
      "outputs": [
        {
          "output_type": "stream",
          "name": "stdout",
          "text": [
            "Socrates is mortal.\n"
          ]
        }
      ]
    },
    {
      "cell_type": "markdown",
      "source": [
        "## **Exercise 3: Inference Techniques in Logic-Based Systems**\n",
        "\n",
        "---\n",
        "\n",
        "**Objective**\n",
        "- Students will develop an inference system to derive conclusions from premises using\n",
        "Python."
      ],
      "metadata": {
        "id": "aXavte2crKvA"
      }
    },
    {
      "cell_type": "code",
      "source": [
        "# Define the rules and facts\n",
        "rules = [\n",
        "    (\"X\", \"Y\")  # Rule: If X is true, then Y is true\n",
        "]\n",
        "\n",
        "facts = [\"X\"]  # Fact: X is true\n",
        "\n",
        "# Function to apply Modus Ponens\n",
        "def apply_modus_ponens(rules, facts):\n",
        "    new_facts = set(facts)\n",
        "    for (P, Q) in rules:\n",
        "        if P in new_facts:\n",
        "            new_facts.add(Q)\n",
        "    return new_facts\n",
        "\n",
        "# Apply Modus Ponens\n",
        "inferred_facts = apply_modus_ponens(rules, facts)\n",
        "\n",
        "# Output the inferred facts\n",
        "print(\"Inferred Facts:\", inferred_facts)\n"
      ],
      "metadata": {
        "colab": {
          "base_uri": "https://localhost:8080/"
        },
        "id": "oNEemfmklXB-",
        "outputId": "9348d8cf-580f-465e-e526-fa5a46886773"
      },
      "execution_count": 3,
      "outputs": [
        {
          "output_type": "stream",
          "name": "stdout",
          "text": [
            "Inferred Facts: {'Y', 'X'}\n"
          ]
        }
      ]
    },
    {
      "cell_type": "code",
      "source": [
        "# A rule is represented as a tuple: (premise, conclusion)\n",
        "rules = [\n",
        "    (\"X\", \"Y\"),  # Rule: If X is true, then Y is true.\n",
        "    (\"Y\", \"Z\"),  # Rule: If Y is true, then Z is true.\n",
        "    (\"A\", \"B\")   # Rule: If A is true, then B is true.\n",
        "]\n",
        "\n",
        "# Initial set of facts\n",
        "facts = [\"X\", \"A\"]  # Fact: X is true, A is true\n",
        "\n",
        "# Function to apply Modus Ponens and infer new facts\n",
        "def apply_modus_ponens(rules, facts):\n",
        "    inferred_facts = set(facts)  # Keep track of known facts\n",
        "    new_inference = True\n",
        "\n",
        "    while new_inference:\n",
        "        new_inference = False\n",
        "        for premise, conclusion in rules:\n",
        "            if premise in inferred_facts and conclusion not in inferred_facts:\n",
        "                inferred_facts.add(conclusion)\n",
        "                new_inference = True\n",
        "                print(f\"Inferred: {conclusion} from {premise}\")\n",
        "\n",
        "    return inferred_facts\n",
        "\n",
        "# Applying the inference system\n",
        "inferred_facts = apply_modus_ponens(rules, facts)\n",
        "\n",
        "# Final output: all inferred facts\n",
        "print(\"\\nFinal set of inferred facts:\", inferred_facts)"
      ],
      "metadata": {
        "colab": {
          "base_uri": "https://localhost:8080/"
        },
        "id": "A9TPQ7ybA2Kf",
        "outputId": "a83e30d3-f5ec-407a-cc3d-3f10f12f8ca3"
      },
      "execution_count": 4,
      "outputs": [
        {
          "output_type": "stream",
          "name": "stdout",
          "text": [
            "Inferred: Y from X\n",
            "Inferred: Z from Y\n",
            "Inferred: B from A\n",
            "\n",
            "Final set of inferred facts: {'X', 'B', 'Z', 'Y', 'A'}\n"
          ]
        }
      ]
    },
    {
      "cell_type": "markdown",
      "source": [
        "## **Exercise 4: Hands-on Lab - Implementing a Logic-Based Model in Python**\n",
        "\n",
        "---\n",
        "\n",
        "**Objective**\n",
        "- Students will implement a logic-based system in Python that performs simple reasoning\n",
        "using propositional or predicate logic."
      ],
      "metadata": {
        "id": "Ap1NNYdetmFQ"
      }
    },
    {
      "cell_type": "code",
      "source": [
        "# Define the initial state\n",
        "john_hungry = True  # John is initially hungry\n",
        "john_eats = False   # John has not eaten yet\n",
        "\n",
        "# Define the rules\n",
        "def will_eat(is_hungry):\n",
        "    \"\"\"Rule: If a person is hungry, they will eat.\"\"\"\n",
        "    return is_hungry\n",
        "\n",
        "def no_longer_hungry(eats):\n",
        "    \"\"\"Rule: If a person eats, they will no longer be hungry.\"\"\"\n",
        "    return not eats\n",
        "\n",
        "# Reasoning process\n",
        "while john_hungry:\n",
        "    print(\"John is hungry.\")\n",
        "\n",
        "    # Check if John will eat\n",
        "    if will_eat(john_hungry):\n",
        "        john_eats = True  # John decides to eat\n",
        "        print(\"John decides to eat.\")\n",
        "\n",
        "        # Update hunger status\n",
        "        john_hungry = no_longer_hungry(john_eats)\n",
        "        print(\"John is no longer hungry.\")\n",
        "    else:\n",
        "        print(\"John is still hungry.\")\n",
        "        break  # Exit if John does not eat\n",
        "\n",
        "# Final state\n",
        "if john_hungry:\n",
        "    print(\"John is still hungry.\")\n",
        "else:\n",
        "    print(\"John has eaten and will no longer be hungry.\")\n"
      ],
      "metadata": {
        "colab": {
          "base_uri": "https://localhost:8080/"
        },
        "id": "8yZ-XyRtlny-",
        "outputId": "918692d5-8ac2-4958-e5fa-63dca686f35e"
      },
      "execution_count": 5,
      "outputs": [
        {
          "output_type": "stream",
          "name": "stdout",
          "text": [
            "John is hungry.\n",
            "John decides to eat.\n",
            "John is no longer hungry.\n",
            "John has eaten and will no longer be hungry.\n"
          ]
        }
      ]
    },
    {
      "cell_type": "markdown",
      "source": [
        "## **Case Study Discussion**\n",
        "\n",
        "---\n",
        "\n",
        "**Objective**\n",
        "- Analyze a real-world case study where logic-based models are used for decision-making\n",
        "(e.g., in AI systems or expert systems).\n"
      ],
      "metadata": {
        "id": "OsMH4l-vRPlt"
      }
    },
    {
      "cell_type": "markdown",
      "source": [
        "### **Case Study: Knowledge-Based Systems in Medical Diagnosis**\n",
        "\n",
        "- Knowledge-based systems (KBS) are a significant application of logic-based reasoning in the field of medical diagnosis. These systems are designed to assist healthcare professionals by providing diagnostic suggestions based on patient data and medical knowledge. They utilize propositional and predicate logic to analyze symptoms, medical history, and other relevant information to reach conclusions about potential conditions.\n",
        "\n",
        "***Application of Logic in Knowledge-Based Systems***\n",
        "\n",
        "**Propositional Logic**\n",
        "- In knowledge-based systems, propositional logic is used to represent basic facts and rules about medical conditions.\n",
        "\n",
        "Example:\n",
        "\n",
        "\"If the patient reports a sore throat and has a fever, then consider the possibility of strep throat.\"\n",
        "\n",
        "These rules allow the system to evaluate the truth of specific statements based on the patient's symptoms and provide relevant diagnostic suggestions.\n",
        "\n",
        "**Predicate Logic**\n",
        "- Predicate logic enhances the system's ability to process more complex relationships and conditions. For instance, a knowledge-based system could implement rules such as:\n",
        "\n",
        "\"For all patients, if a patient is over 50 years old and has high cholesterol, then they are at increased risk for heart disease.\"\n",
        "\n",
        "This capability enables the system to reason about various patient characteristics and their implications for diagnosis, leading to more accurate and individualized recommendations.\n",
        "\n",
        "***Advantages of Logic-Based Models in Medical Diagnosis***\n",
        "\n",
        "Enhanced Decision Support\n",
        "- Logic-based reasoning provides healthcare professionals with structured, evidence-based recommendations.\n",
        "\n",
        "Consistency and Reliability\n",
        "- By relying on established rules and facts, knowledge-based systems ensure that diagnostic suggestions are consistent\n",
        "\n",
        "Scalability of Knowledge\n",
        "- As medical knowledge evolves, logic-based systems can easily incorporate new rules and information, allowing them to stay current with advancements in medical science.\n",
        "\n",
        "***Challenges of Logic-Based Models in Medical Diagnosis***\n",
        "\n",
        "Complexity of Medical Knowledge\n",
        "- The huge nature of medical knowledge can make it challenging to represent all relevant information in a logical framework. This complexity can lead to gaps in the system's reasoning capabilities.\n",
        "\n",
        "Handling Uncertainty\n",
        "- Traditional logic-based models may struggle to incorporate probabilistic reasoning, which is essential for addressing the inherent uncertainties in medical practice.\n",
        "\n"
      ],
      "metadata": {
        "id": "R1VGNuZcRXK7"
      }
    },
    {
      "cell_type": "markdown",
      "source": [
        "## **Assignment: Implement a Logic-Based Model in Python**\n",
        "\n",
        "---\n",
        "\n",
        "**Objective**\n",
        "- Develop a more complex logic-based system in Python to model real-world scenarios."
      ],
      "metadata": {
        "id": "eskM-7sZuKsg"
      }
    },
    {
      "cell_type": "code",
      "source": [
        "class ExerciseRecommendationSystem:\n",
        "    def __init__(self):\n",
        "        # Define initial facts about exercises\n",
        "        self.exercises = {\n",
        "            \"yoga\": {\"type\": \"low-impact\", \"equipment\": False, \"duration\": \"any\"},\n",
        "            \"walking\": {\"type\": \"low-impact\", \"equipment\": False, \"duration\": \"any\"},\n",
        "            \"weightlifting\": {\"type\": \"strength\", \"equipment\": True, \"duration\": \"any\"},\n",
        "            \"bodyweight exercises\": {\"type\": \"strength\", \"equipment\": False, \"duration\": \"any\"},\n",
        "            \"HIIT\": {\"type\": \"cardio\", \"equipment\": False, \"duration\": \"short\"},\n",
        "            \"short run\": {\"type\": \"cardio\", \"equipment\": False, \"duration\": \"short\"},\n",
        "            \"running\": {\"type\": \"cardio\", \"equipment\": False, \"duration\": \"moderate\"},\n",
        "            \"cycling\": {\"type\": \"cardio\", \"equipment\": False, \"duration\": \"moderate\"}\n",
        "        }\n",
        "\n",
        "    def recommend_exercise(self, type_of_exercise, has_equipment, duration):\n",
        "        recommendations = []\n",
        "\n",
        "        for exercise, details in self.exercises.items():\n",
        "            if details[\"type\"] == type_of_exercise and details[\"equipment\"] == has_equipment and \\\n",
        "               (details[\"duration\"] == \"any\" or details[\"duration\"] == duration):\n",
        "                recommendations.append(exercise)\n",
        "\n",
        "        if not recommendations:\n",
        "            return \"Hmm, it looks like I don't have any exercise suggestions that fit your preferences right now.\"\n",
        "\n",
        "        return recommendations\n",
        "\n",
        "\n",
        "# Example usage\n",
        "def main():\n",
        "    system = ExerciseRecommendationSystem()\n",
        "\n",
        "    # Simulate chatbot conversation\n",
        "    print(\"Hello! I'm here to help you find the perfect exercise.\")\n",
        "    type_of_exercise = input(\"What type of exercise are you interested in? (e.g., low-impact, strength, cardio): \").strip().lower()\n",
        "    has_equipment = input(\"Do you have any equipment? (yes/no): \").strip().lower() == 'yes'\n",
        "    duration = input(\"How much time do you have? (short, moderate, any): \").strip().lower()\n",
        "\n",
        "    # Get recommendations\n",
        "    print(\"\\nLet me think...\")\n",
        "    recommendations = system.recommend_exercise(type_of_exercise, has_equipment, duration)\n",
        "\n",
        "    if isinstance(recommendations, list) and recommendations:\n",
        "        print(\"\\nBased on your preferences, here are some exercise options for you:\")\n",
        "        for exercise in recommendations:\n",
        "            print(f\"- {exercise.capitalize()}\")\n",
        "    else:\n",
        "        print(recommendations)\n",
        "\n",
        "\n",
        "if __name__ == \"__main__\":\n",
        "    main()"
      ],
      "metadata": {
        "colab": {
          "base_uri": "https://localhost:8080/"
        },
        "id": "pYIB1d9rGCfR",
        "outputId": "0768a877-69cf-4e53-dbed-9a41e1c267a4"
      },
      "execution_count": 6,
      "outputs": [
        {
          "output_type": "stream",
          "name": "stdout",
          "text": [
            "Hello! I'm here to help you find the perfect exercise.\n",
            "What type of exercise are you interested in? (e.g., low-impact, strength, cardio): strength\n",
            "Do you have any equipment? (yes/no): yes\n",
            "How much time do you have? (short, moderate, any): moderate\n",
            "\n",
            "Let me think...\n",
            "\n",
            "Based on your preferences, here are some exercise options for you:\n",
            "- Weightlifting\n"
          ]
        }
      ]
    }
  ]
}